{
  "cells": [
    {
      "cell_type": "raw",
      "metadata": {},
      "source": [
        "---\n",
        "title: Modulation of the Action Observation Network by Action, Agent and Observer Factors\n",
        "author:\n",
        "  - name: Olaf Borghi\n",
        "    orcid: 0000-0001-9724-2839\n",
        "    affiliation: University of Vienna\n",
        "categories: \n",
        "  - fMRI\n",
        "  - Action observation network\n",
        "  - Linear mixed modeling\n",
        "pub-info:\n",
        "  reference: >- \n",
        "    Poster of my master thesis. \n",
        "  extra: >-\n",
        "    My first experiences with MRI analysis.  \n",
        "---"
      ],
      "id": "222a9e39"
    },
    {
      "cell_type": "markdown",
      "metadata": {},
      "source": [
        "Poster of my master thesis project created for the Early Career Research Poster Session of the Faculty of Psychology, University of Vienna\n",
        "\n",
        "\n",
        "```{css, echo=FALSE}\n",
        ".embed-container {\n",
        "    position: relative;\n",
        "    padding-bottom: 129%;\n",
        "    height: 0;\n",
        "    overflow: hidden;\n",
        "    max-width: 100%;\n",
        "}\n",
        ".embed-container iframe,\n",
        ".embed-container object,\n",
        ".embed-container embed {\n",
        "    position: absolute;\n",
        "    top: 0;\n",
        "    left: 0;\n",
        "    width: 100%;\n",
        "    height: 100%;\n",
        "}\n",
        "```\n",
        "\n",
        "```{=html}\n",
        "<div class=\"embed-container\">\n",
        "  <iframe src=\"Borghi_AON_Poster.pdf#toolbar=0\" style=\"border: none;\"></iframe>\n",
        "</div>\n",
        "```"
      ],
      "id": "47e4083a"
    }
  ],
  "metadata": {
    "kernelspec": {
      "display_name": "Python 3",
      "language": "python",
      "name": "python3"
    }
  },
  "nbformat": 4,
  "nbformat_minor": 5
}